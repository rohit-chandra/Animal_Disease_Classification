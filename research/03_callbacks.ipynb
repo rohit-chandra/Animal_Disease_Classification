{
 "cells": [
  {
   "cell_type": "code",
   "execution_count": 2,
   "metadata": {},
   "outputs": [],
   "source": [
    "import os"
   ]
  },
  {
   "cell_type": "code",
   "execution_count": 3,
   "metadata": {},
   "outputs": [
    {
     "data": {
      "text/plain": [
       "'d:\\\\Courses\\\\Krish_Naik\\\\Chicken_Disease_Classification\\\\research'"
      ]
     },
     "execution_count": 3,
     "metadata": {},
     "output_type": "execute_result"
    }
   ],
   "source": [
    "%pwd"
   ]
  },
  {
   "cell_type": "code",
   "execution_count": 4,
   "metadata": {},
   "outputs": [],
   "source": [
    "# move one folder up\n",
    "os.chdir(\"../\")"
   ]
  },
  {
   "cell_type": "code",
   "execution_count": 1,
   "metadata": {},
   "outputs": [
    {
     "data": {
      "text/plain": [
       "'d:\\\\Courses\\\\Krish_Naik\\\\Chicken_Disease_Classification\\\\research'"
      ]
     },
     "execution_count": 1,
     "metadata": {},
     "output_type": "execute_result"
    }
   ],
   "source": [
    "%pwd"
   ]
  },
  {
   "attachments": {},
   "cell_type": "markdown",
   "metadata": {},
   "source": [
    "### 1. Update params.yaml with model parameters (DONE)"
   ]
  },
  {
   "attachments": {},
   "cell_type": "markdown",
   "metadata": {},
   "source": [
    "### 2. Update Entity\n",
    "\n",
    "- Create a data class"
   ]
  },
  {
   "cell_type": "code",
   "execution_count": 7,
   "metadata": {},
   "outputs": [],
   "source": [
    "from dataclasses import dataclass\n",
    "from pathlib import Path\n",
    "\n",
    "@dataclass(frozen=True)\n",
    "class CallbacksConfig:\n",
    "    root_dir: Path\n",
    "    tensorboard_root_log_dir: Path\n",
    "    model_checkpoint_dir: Path"
   ]
  },
  {
   "attachments": {},
   "cell_type": "markdown",
   "metadata": {},
   "source": [
    "### 3. Update Configuration Manager \n",
    "\n",
    "- Create root directory\n",
    "- Create a sub directory\n",
    "- initialize the data class object"
   ]
  },
  {
   "cell_type": "code",
   "execution_count": 6,
   "metadata": {},
   "outputs": [],
   "source": [
    "from chicken_disease_classification.constants import *\n",
    "from chicken_disease_classification.utils.common import read_yaml, create_directories"
   ]
  },
  {
   "cell_type": "code",
   "execution_count": 8,
   "metadata": {},
   "outputs": [],
   "source": [
    "class ConfigurationManager:\n",
    "    def __init__(\n",
    "        self, \n",
    "        config_file_path: Path = CONFIG_FILE_PATH,\n",
    "        params_file_path: Path = PARAMS_FILE_PATH\n",
    "    ):\n",
    "        # read base_model key in yaml file \n",
    "        self.config_file_path = read_yaml(config_file_path)\n",
    "        # read params.yaml file\n",
    "        self.params_file_path = read_yaml(params_file_path)\n",
    "        \n",
    "        # create directory -> \"artifacts\"; artifacts_root is present in config.yaml\n",
    "        create_directories([self.config_file_path.artifacts_root])\n",
    "    \n",
    "    \n",
    "    def get_callback_config(self) -> CallbacksConfig:\n",
    "        \n",
    "        callbacks_config = self.config_file_path.callbacks\n",
    "        \n",
    "        model_ckpt_dir = os.path.dirname(callbacks_config.model_checkpoint_dir)\n",
    "        # create 2 sub directories in artifacts -> model_checkpoint_dir and tensorboard_root_log_dir\n",
    "        create_directories([Path(model_ckpt_dir) , Path(callbacks_config.tensorboard_root_log_dir)])\n",
    "        \n",
    "        # create obj of BaseModelConfig class\n",
    "        callbacks_config_obj = CallbacksConfig(\n",
    "            root_dir = Path(callbacks_config.root_dir),\n",
    "            tensorboard_root_log_dir = Path(callbacks_config.tensorboard_root_log_dir),\n",
    "            model_checkpoint_dir = Path(callbacks_config.model_checkpoint_dir)\n",
    "        )\n",
    "        \n",
    "        return callbacks_config_obj"
   ]
  },
  {
   "attachments": {},
   "cell_type": "markdown",
   "metadata": {},
   "source": [
    "### 4. Create Components"
   ]
  },
  {
   "cell_type": "code",
   "execution_count": 15,
   "metadata": {},
   "outputs": [],
   "source": [
    "import os\n",
    "import urllib.request as request\n",
    "from zipfile import ZipFile\n",
    "import tensorflow as tf\n",
    "import time"
   ]
  },
  {
   "cell_type": "code",
   "execution_count": 13,
   "metadata": {},
   "outputs": [],
   "source": [
    "class Callbacks:\n",
    "    \n",
    "    def __init__(self, config: CallbacksConfig):\n",
    "        self.config = config\n",
    "    \n",
    "    \n",
    "    @property\n",
    "    def _create_tensorboard_callbacks(self):\n",
    "        \"\"\"create timestamp folder save all the logs in that folder\n",
    "        \"\"\"\n",
    "        timestamp = time.strftime(\"%Y-%m-%d_%H-%M-%S\")\n",
    "        tensorboard_log_dir = os.path.join(self.config.tensorboard_root_log_dir, f\"tensorborad_logs_at_{timestamp}\")\n",
    "        \n",
    "        return tf.keras.callbacks.TensorBoard(log_dir = tensorboard_log_dir)\n",
    "    \n",
    "    \n",
    "    @property\n",
    "    def _create_ckpt_callbacks(self):\n",
    "        return tf.keras.callbacks.ModelCheckpoint(\n",
    "            filepath = self.config.model_checkpoint_dir,\n",
    "            save_best_only = True\n",
    "        )\n",
    "    \n",
    "    def get_tensorboard_ckpt_callbacks(self):\n",
    "        return [self._create_tensorboard_callbacks, self._create_ckpt_callbacks]\n",
    "        "
   ]
  },
  {
   "cell_type": "markdown",
   "metadata": {},
   "source": [
    "### 5 Create Pipeline"
   ]
  },
  {
   "cell_type": "code",
   "execution_count": 16,
   "metadata": {},
   "outputs": [
    {
     "name": "stdout",
     "output_type": "stream",
     "text": [
      "[2023-06-10 10:35:14,684: INFO: common: yaml file: config\\config.yaml loaded successfully]\n",
      "[2023-06-10 10:35:14,692: INFO: common: yaml file: params.yaml loaded successfully]\n",
      "[2023-06-10 10:35:14,695: INFO: common: Created directory at: artifacts]\n",
      "[2023-06-10 10:35:14,699: INFO: common: Created directory at: artifacts\\callbacks\\model_checkpoint_dir]\n",
      "[2023-06-10 10:35:14,701: INFO: common: Created directory at: artifacts\\callbacks\\tensorboard_log_dir]\n"
     ]
    }
   ],
   "source": [
    "try:\n",
    "    config = ConfigurationManager()\n",
    "    callbacks_config = config.get_callback_config()\n",
    "    callbacks = Callbacks(config = callbacks_config)\n",
    "    callback_list = callbacks.get_tensorboard_ckpt_callbacks()\n",
    "    \n",
    "except Exception as e:\n",
    "    raise e"
   ]
  },
  {
   "attachments": {},
   "cell_type": "markdown",
   "metadata": {},
   "source": [
    "You get timsetamp folders like these:"
   ]
  },
  {
   "cell_type": "code",
   "execution_count": 17,
   "metadata": {},
   "outputs": [
    {
     "data": {
      "text/plain": [
       "'tensorborad_logs_at_2023-06-10_10-35-47'"
      ]
     },
     "execution_count": 17,
     "metadata": {},
     "output_type": "execute_result"
    }
   ],
   "source": [
    "timestamp = time.strftime(\"%Y-%m-%d_%H-%M-%S\")\n",
    "f\"tensorborad_logs_at_{timestamp}\""
   ]
  },
  {
   "cell_type": "code",
   "execution_count": null,
   "metadata": {},
   "outputs": [],
   "source": []
  }
 ],
 "metadata": {
  "kernelspec": {
   "display_name": "krish_chicken_disease_clf",
   "language": "python",
   "name": "python3"
  },
  "language_info": {
   "codemirror_mode": {
    "name": "ipython",
    "version": 3
   },
   "file_extension": ".py",
   "mimetype": "text/x-python",
   "name": "python",
   "nbconvert_exporter": "python",
   "pygments_lexer": "ipython3",
   "version": "3.9.16"
  },
  "orig_nbformat": 4
 },
 "nbformat": 4,
 "nbformat_minor": 2
}
