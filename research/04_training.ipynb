{
 "cells": [
  {
   "cell_type": "code",
   "execution_count": 1,
   "metadata": {},
   "outputs": [],
   "source": [
    "import os"
   ]
  },
  {
   "cell_type": "code",
   "execution_count": 2,
   "metadata": {},
   "outputs": [
    {
     "data": {
      "text/plain": [
       "'d:\\\\Courses\\\\Krish_Naik\\\\Chicken_Disease_Classification\\\\research'"
      ]
     },
     "execution_count": 2,
     "metadata": {},
     "output_type": "execute_result"
    }
   ],
   "source": [
    "%pwd"
   ]
  },
  {
   "cell_type": "code",
   "execution_count": 3,
   "metadata": {},
   "outputs": [],
   "source": [
    "# move one folder up\n",
    "os.chdir(\"../\")"
   ]
  },
  {
   "cell_type": "code",
   "execution_count": 4,
   "metadata": {},
   "outputs": [
    {
     "data": {
      "text/plain": [
       "'d:\\\\Courses\\\\Krish_Naik\\\\Chicken_Disease_Classification'"
      ]
     },
     "execution_count": 4,
     "metadata": {},
     "output_type": "execute_result"
    }
   ],
   "source": [
    "%pwd"
   ]
  },
  {
   "cell_type": "markdown",
   "metadata": {},
   "source": [
    "### 1. Update params.yaml with model parameters (DONE)"
   ]
  },
  {
   "cell_type": "markdown",
   "metadata": {},
   "source": [
    "### 2. Update Entity\n",
    "\n",
    "- Create a data class"
   ]
  },
  {
   "cell_type": "code",
   "execution_count": 6,
   "metadata": {},
   "outputs": [],
   "source": [
    "from dataclasses import dataclass\n",
    "from pathlib import Path\n",
    "\n",
    "@dataclass(frozen=True)\n",
    "class TrainingConfig:\n",
    "    root_dir: Path\n",
    "    trained_model_dir: Path\n",
    "    updated_base_model_dir: Path\n",
    "    training_data: Path\n",
    "    params_epochs: int\n",
    "    params_batch_size: int\n",
    "    params_is_augmentation: bool\n",
    "    params_image_size: list\n",
    "\n",
    "\n",
    "\n",
    "@dataclass(frozen=True)\n",
    "class CallbacksConfig:\n",
    "    root_dir: Path\n",
    "    tensorboard_root_log_dir: Path\n",
    "    model_checkpoint_dir: Path"
   ]
  },
  {
   "attachments": {},
   "cell_type": "markdown",
   "metadata": {},
   "source": [
    "### 3. Update Configuration Manager \n",
    "\n",
    "- Create root directory\n",
    "- Create a sub directory\n",
    "- initialize the data class object"
   ]
  },
  {
   "cell_type": "code",
   "execution_count": 7,
   "metadata": {},
   "outputs": [],
   "source": [
    "from chicken_disease_classification.constants import *\n",
    "from chicken_disease_classification.utils.common import read_yaml, create_directories"
   ]
  },
  {
   "cell_type": "code",
   "execution_count": 17,
   "metadata": {},
   "outputs": [],
   "source": [
    "class ConfigurationManager:\n",
    "    def __init__(\n",
    "        self, \n",
    "        config_file_path: Path = CONFIG_FILE_PATH,\n",
    "        params_file_path: Path = PARAMS_FILE_PATH\n",
    "    ):\n",
    "        # read base_model key in yaml file \n",
    "        self.config_file_path = read_yaml(config_file_path)\n",
    "        # read params.yaml file\n",
    "        self.params_file_path = read_yaml(params_file_path)\n",
    "        \n",
    "        # create directory -> \"artifacts\"; artifacts_root is present in config.yaml\n",
    "        create_directories([self.config_file_path.artifacts_root])\n",
    "    \n",
    "    \n",
    "    def get_callback_config(self) -> CallbacksConfig:\n",
    "        \n",
    "        callbacks_config = self.config_file_path.callbacks\n",
    "        \n",
    "        model_ckpt_dir = os.path.dirname(callbacks_config.model_checkpoint_dir)\n",
    "        # create 2 sub directories in artifacts -> model_checkpoint_dir and tensorboard_root_log_dir\n",
    "        create_directories([Path(model_ckpt_dir) , Path(callbacks_config.tensorboard_root_log_dir)])\n",
    "        \n",
    "        # create obj of BaseModelConfig class\n",
    "        callbacks_config_obj = CallbacksConfig(\n",
    "            root_dir = Path(callbacks_config.root_dir),\n",
    "            tensorboard_root_log_dir = Path(callbacks_config.tensorboard_root_log_dir),\n",
    "            model_checkpoint_dir = Path(callbacks_config.model_checkpoint_dir)\n",
    "        )\n",
    "        \n",
    "        return callbacks_config_obj\n",
    "    \n",
    "    \n",
    "    def get_training_config(self) -> TrainingConfig:\n",
    "        training = self.config_file_path.training\n",
    "        base_model = self.config_file_path.base_model\n",
    "        params = self.params_file_path\n",
    "        training_data = os.path.join(self.config_file_path.data_ingestion.unzip_dir, \"Chicken-fecal-images\")\n",
    "        \n",
    "        # create root directory for training\n",
    "        create_directories([Path(training.root_dir)])\n",
    "        \n",
    "        training_config_obj = TrainingConfig(\n",
    "            root_dir = Path(training.root_dir),\n",
    "            trained_model_dir = Path(training.trained_model_dir),\n",
    "            updated_base_model_dir = Path(base_model.updated_base_model_path),\n",
    "            training_data = Path(training_data),\n",
    "            params_epochs = params.EPOCHS,\n",
    "            params_batch_size = params.BATCH_SIZE,\n",
    "            params_is_augmentation = params.AUGMENTATION,\n",
    "            params_image_size = params.IMAGE_SIZE\n",
    "        )\n",
    "        \n",
    "        return training_config_obj"
   ]
  },
  {
   "attachments": {},
   "cell_type": "markdown",
   "metadata": {},
   "source": [
    "### 4. Create Components\n",
    "\n",
    "- callback component\n",
    "- Training component"
   ]
  },
  {
   "cell_type": "code",
   "execution_count": 11,
   "metadata": {},
   "outputs": [],
   "source": [
    "import os\n",
    "import urllib.request as request\n",
    "from zipfile import ZipFile\n",
    "import tensorflow as tf\n",
    "import time"
   ]
  },
  {
   "cell_type": "code",
   "execution_count": 12,
   "metadata": {},
   "outputs": [],
   "source": [
    "class Callbacks:\n",
    "    \n",
    "    def __init__(self, config: CallbacksConfig):\n",
    "        self.config = config\n",
    "    \n",
    "    \n",
    "    @property\n",
    "    def _create_tensorboard_callbacks(self):\n",
    "        \"\"\"create timestamp folder save all the logs in that folder\n",
    "        \"\"\"\n",
    "        timestamp = time.strftime(\"%Y-%m-%d_%H-%M-%S\")\n",
    "        tensorboard_log_dir = os.path.join(self.config.tensorboard_root_log_dir, f\"tensorborad_logs_at_{timestamp}\")\n",
    "        \n",
    "        return tf.keras.callbacks.TensorBoard(log_dir = tensorboard_log_dir)\n",
    "    \n",
    "    \n",
    "    @property\n",
    "    def _create_ckpt_callbacks(self):\n",
    "        return tf.keras.callbacks.ModelCheckpoint(\n",
    "            filepath = self.config.model_checkpoint_dir,\n",
    "            save_best_only = True\n",
    "        )\n",
    "    \n",
    "    def get_tensorboard_ckpt_callbacks(self):\n",
    "        return [self._create_tensorboard_callbacks, self._create_ckpt_callbacks]\n",
    "        "
   ]
  },
  {
   "cell_type": "code",
   "execution_count": 19,
   "metadata": {},
   "outputs": [],
   "source": [
    "class Training:\n",
    "    \n",
    "    def __init__(self, config: TrainingConfig):\n",
    "        self.config = config\n",
    "    \n",
    "    \n",
    "    def get_base_model(self):\n",
    "        self.model = tf.keras.models.load_model(self.config.updated_base_model_dir)\n",
    "    \n",
    "    \n",
    "    def train_valid_generator(self):\n",
    "        \n",
    "        data_generator_kwargs = dict(\n",
    "            rescale = 1./255,\n",
    "            validation_split = 0.2\n",
    "        )\n",
    "        \n",
    "        dataflow_kwargs = dict(\n",
    "            target_size = self.config.params_image_size[:-1],\n",
    "            batch_size = self.config.params_batch_size,\n",
    "            interpolation = \"bilinear\"\n",
    "        )\n",
    "        \n",
    "        \n",
    "        valid_datagenerator = tf.keras.preprocessing.image.ImageDataGenerator(**data_generator_kwargs)\n",
    "        \n",
    "        \n",
    "        self.valid_generator = valid_datagenerator.flow_from_directory(\n",
    "            directory = self.config.training_data,\n",
    "            subset = \"validation\",\n",
    "            shuffle = False,\n",
    "            **dataflow_kwargs\n",
    "        )\n",
    "        \n",
    "        if self.config.params_is_augmentation:\n",
    "            train_datagenerator = tf.keras.preprocessing.image.ImageDataGenerator(\n",
    "                rotation_range = 40,\n",
    "                horizontal_flip = True,\n",
    "                width_shift_range = 0.2,\n",
    "                height_shift_range = 0.2,\n",
    "                shear_range = 0.2,\n",
    "                zoom_range = 0.2,\n",
    "                **data_generator_kwargs\n",
    "            )\n",
    "        \n",
    "        else:\n",
    "            train_datagenerator = valid_datagenerator\n",
    "        \n",
    "        self.train_generator = train_datagenerator.flow_from_directory(\n",
    "            directory = self.config.training_data,\n",
    "            subset = \"training\",\n",
    "            shuffle = True,\n",
    "            **dataflow_kwargs\n",
    "        )\n",
    "        \n",
    "        \n",
    "    @staticmethod\n",
    "    def save_model(path: Path, model: tf.keras.Model):\n",
    "        model.save(path)\n",
    "    \n",
    "    \n",
    "    \n",
    "    def train(self, callbacks_lst: list):\n",
    "        self.steps_per_epoch = self.train_generator.samples // self.train_generator.batch_size\n",
    "        self.validation_steps = self.valid_generator.samples // self.valid_generator.batch_size\n",
    "        \n",
    "        \n",
    "        self.model.fit(\n",
    "            self.train_generator,\n",
    "            epochs = self.config.params_epochs,\n",
    "            steps_per_epoch = self.steps_per_epoch,\n",
    "            validation_steps = self.validation_steps,\n",
    "            validation_data = self.valid_generator,\n",
    "            callbacks = callbacks_lst\n",
    "        )\n",
    "        \n",
    "        \n",
    "        self.save_model(path = self.config.trained_model_dir, model = self.model)\n"
   ]
  },
  {
   "attachments": {},
   "cell_type": "markdown",
   "metadata": {},
   "source": [
    "### 5 Create Pipeline\n",
    "\n",
    "- For both callbacks and Training"
   ]
  },
  {
   "cell_type": "code",
   "execution_count": 20,
   "metadata": {},
   "outputs": [
    {
     "name": "stdout",
     "output_type": "stream",
     "text": [
      "[2023-06-10 11:54:44,201: INFO: common: yaml file: config\\config.yaml loaded successfully]\n",
      "[2023-06-10 11:54:44,206: INFO: common: yaml file: params.yaml loaded successfully]\n",
      "[2023-06-10 11:54:44,208: INFO: common: Created directory at: artifacts]\n",
      "[2023-06-10 11:54:44,211: INFO: common: Created directory at: artifacts\\callbacks\\model_checkpoint_dir]\n",
      "[2023-06-10 11:54:44,212: INFO: common: Created directory at: artifacts\\callbacks\\tensorboard_log_dir]\n",
      "[2023-06-10 11:54:44,214: INFO: common: Created directory at: artifacts\\training]\n",
      "Found 78 images belonging to 2 classes.\n",
      "Found 312 images belonging to 2 classes.\n",
      "Epoch 1/5\n",
      "19/19 [==============================] - 73s 4s/step - loss: 12.8806 - accuracy: 0.5574 - val_loss: 4.7831 - val_accuracy: 0.6094\n",
      "Epoch 2/5\n",
      "19/19 [==============================] - 91s 5s/step - loss: 6.3563 - accuracy: 0.7432 - val_loss: 4.0672 - val_accuracy: 0.5312\n",
      "Epoch 3/5\n",
      "19/19 [==============================] - 82s 4s/step - loss: 4.7106 - accuracy: 0.7027 - val_loss: 1.2432 - val_accuracy: 0.8438\n",
      "Epoch 4/5\n",
      "19/19 [==============================] - 77s 4s/step - loss: 3.9428 - accuracy: 0.7838 - val_loss: 0.6220 - val_accuracy: 0.9062\n",
      "Epoch 5/5\n",
      "19/19 [==============================] - 93s 5s/step - loss: 2.7756 - accuracy: 0.7736 - val_loss: 4.8228 - val_accuracy: 0.6562\n"
     ]
    }
   ],
   "source": [
    "try:\n",
    "    config = ConfigurationManager()\n",
    "    callbacks_config = config.get_callback_config()\n",
    "    callbacks = Callbacks(config = callbacks_config)\n",
    "    callback_list = callbacks.get_tensorboard_ckpt_callbacks()\n",
    "    \n",
    "    training_config = config.get_training_config()\n",
    "    training_obj = Training(config = training_config)\n",
    "    training_obj.get_base_model()\n",
    "    # Scale, train test split\n",
    "    training_obj.train_valid_generator()\n",
    "    # start training\n",
    "    training_obj.train(callbacks_lst = callback_list)\n",
    "    \n",
    "    \n",
    "except Exception as e:\n",
    "    raise e"
   ]
  },
  {
   "cell_type": "code",
   "execution_count": null,
   "metadata": {},
   "outputs": [],
   "source": []
  }
 ],
 "metadata": {
  "kernelspec": {
   "display_name": "krish_chicken_disease_clf",
   "language": "python",
   "name": "python3"
  },
  "language_info": {
   "codemirror_mode": {
    "name": "ipython",
    "version": 3
   },
   "file_extension": ".py",
   "mimetype": "text/x-python",
   "name": "python",
   "nbconvert_exporter": "python",
   "pygments_lexer": "ipython3",
   "version": "3.9.16"
  },
  "orig_nbformat": 4
 },
 "nbformat": 4,
 "nbformat_minor": 2
}
